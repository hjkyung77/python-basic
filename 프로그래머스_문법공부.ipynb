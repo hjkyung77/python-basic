{
  "nbformat": 4,
  "nbformat_minor": 0,
  "metadata": {
    "colab": {
      "name": "프로그래머스 문법공부",
      "provenance": [],
      "collapsed_sections": [],
      "authorship_tag": "ABX9TyP8AXhOrPLn5L+g+Whh1c0U",
      "include_colab_link": true
    },
    "kernelspec": {
      "name": "python3",
      "display_name": "Python 3"
    },
    "language_info": {
      "name": "python"
    }
  },
  "cells": [
    {
      "cell_type": "markdown",
      "metadata": {
        "id": "view-in-github",
        "colab_type": "text"
      },
      "source": [
        "<a href=\"https://colab.research.google.com/github/hjkyung77/python-basic/blob/main/%ED%94%84%EB%A1%9C%EA%B7%B8%EB%9E%98%EB%A8%B8%EC%8A%A4_%EB%AC%B8%EB%B2%95%EA%B3%B5%EB%B6%80.ipynb\" target=\"_parent\"><img src=\"https://colab.research.google.com/assets/colab-badge.svg\" alt=\"Open In Colab\"/></a>"
      ]
    },
    {
      "cell_type": "code",
      "execution_count": 3,
      "metadata": {
        "colab": {
          "base_uri": "https://localhost:8080/"
        },
        "id": "eWVfdCIGZzlO",
        "outputId": "8dd1827d-0ed9-4504-aa5c-e3a3ad4b05ce"
      },
      "outputs": [
        {
          "output_type": "stream",
          "name": "stdout",
          "text": [
            "15\n"
          ]
        }
      ],
      "source": [
        "num='1111'\n",
        "base=2\n",
        "print(int(num, base))"
      ]
    },
    {
      "cell_type": "code",
      "source": [
        "list1 = [1, 2, 3, 4]\n",
        "list2 = [100, 120, 30,300]\n",
        "list3 = [392, 2, 33, 1]\n",
        "answer = []\n",
        "for number1, number2, number3 in zip(list1, list2, list3):\n",
        "   print(number1, number2, number3)\n",
        "   print(number1 + number2 + number3)"
      ],
      "metadata": {
        "colab": {
          "base_uri": "https://localhost:8080/"
        },
        "id": "ZUr5bZPclRJq",
        "outputId": "d3705956-cfe1-49f8-d357-26a51a74a4e4"
      },
      "execution_count": 21,
      "outputs": [
        {
          "output_type": "stream",
          "name": "stdout",
          "text": [
            "1 100 392\n",
            "493\n",
            "2 120 2\n",
            "124\n",
            "3 30 33\n",
            "66\n",
            "4 300 1\n",
            "305\n"
          ]
        }
      ]
    },
    {
      "cell_type": "code",
      "source": [
        "#mylist = [[1, 2, 3], [4, 5, 6], [7, 8, 9]]\n",
        "#new_list = list(map(list, zip(*mylist)))\n",
        "\n",
        "mylist = [[1, 2, 3], [4, 5, 6], [7, 8, 9]]\n",
        "# 1\n",
        "# mylist를 unpacking 해줘서 [1, 2, 3], [4, 5, 6], [7, 8, 9]의 세 개의 list로 만듦\n",
        "print(*mylist)\n",
        "print()\n",
        "# 2\n",
        "# 3개를 동시에 interation하며 각각의 것들을 tuple로 만들어줌. 아래는 만들어진 tuple을 \n",
        "a, b, c = zip(*mylist)\n",
        "print(a)\n",
        "print(b)\n",
        "print(c)\n",
        "print()\n",
        "# 3\n",
        "# map을 이용해서 tuple 대신 list type으로 출력\n",
        "a, b, c = map(list,zip(*mylist))\n",
        "print(a)\n",
        "print(b)\n",
        "print(c)\n",
        "print()\n",
        "# 4\n",
        "# list() 함수로 3개의 list를 하나로 묶음\n",
        "new_list = list(map(list, zip(*mylist)))\n",
        "print(new_list)"
      ],
      "metadata": {
        "colab": {
          "base_uri": "https://localhost:8080/"
        },
        "id": "R9sJcM2rlV1q",
        "outputId": "9383e99f-ec46-4f80-aef3-1c86c6fd6a7e"
      },
      "execution_count": 28,
      "outputs": [
        {
          "output_type": "stream",
          "name": "stdout",
          "text": [
            "[1, 2, 3] [4, 5, 6] [7, 8, 9]\n",
            "\n",
            "(1, 4, 7)\n",
            "(2, 5, 8)\n",
            "(3, 6, 9)\n",
            "\n",
            "[1, 4, 7]\n",
            "[2, 5, 8]\n",
            "[3, 6, 9]\n",
            "\n",
            "[[1, 4, 7], [2, 5, 8], [3, 6, 9]]\n"
          ]
        }
      ]
    },
    {
      "cell_type": "code",
      "source": [
        ""
      ],
      "metadata": {
        "colab": {
          "base_uri": "https://localhost:8080/"
        },
        "id": "yErPvibIlwtz",
        "outputId": "19a45436-62e9-431f-e620-f725f4feddb4"
      },
      "execution_count": 26,
      "outputs": [
        {
          "output_type": "stream",
          "name": "stdout",
          "text": [
            "(1, 4, 7)\n",
            "(2, 5, 8)\n",
            "(3, 6, 9)\n"
          ]
        }
      ]
    }
  ]
}